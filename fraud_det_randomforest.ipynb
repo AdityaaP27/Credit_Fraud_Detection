{
 "cells": [
  {
   "cell_type": "code",
   "execution_count": 1,
   "id": "d2593369",
   "metadata": {},
   "outputs": [],
   "source": [
    "import pandas as pd\n",
    "import seaborn as sb\n",
    "import matplotlib.pyplot as plt\n",
    "pd.set_option('display.max_columns',None)"
   ]
  },
  {
   "cell_type": "code",
   "execution_count": 2,
   "id": "9f86a558",
   "metadata": {},
   "outputs": [
    {
     "data": {
      "text/plain": [
       "((284807, 31), False)"
      ]
     },
     "execution_count": 2,
     "metadata": {},
     "output_type": "execute_result"
    }
   ],
   "source": [
    "data = pd.read_csv(\"data/creditcard.csv\")\n",
    "data.shape, data.isnull().values.any()"
   ]
  },
  {
   "cell_type": "code",
   "execution_count": 3,
   "id": "de664611",
   "metadata": {},
   "outputs": [
    {
     "data": {
      "text/plain": [
       "(492, 31)"
      ]
     },
     "execution_count": 3,
     "metadata": {},
     "output_type": "execute_result"
    }
   ],
   "source": [
    "data[data['Class']==1].shape"
   ]
  },
  {
   "cell_type": "code",
   "execution_count": 4,
   "id": "7365576b",
   "metadata": {},
   "outputs": [
    {
     "data": {
      "text/plain": [
       "19"
      ]
     },
     "execution_count": 4,
     "metadata": {},
     "output_type": "execute_result"
    }
   ],
   "source": [
    "data[data['Class']==1].duplicated().sum()"
   ]
  },
  {
   "cell_type": "code",
   "execution_count": 5,
   "id": "2444d7f7",
   "metadata": {},
   "outputs": [
    {
     "data": {
      "text/plain": [
       "1062"
      ]
     },
     "execution_count": 5,
     "metadata": {},
     "output_type": "execute_result"
    }
   ],
   "source": [
    "data[data['Class']==0].duplicated().sum()"
   ]
  },
  {
   "cell_type": "code",
   "execution_count": 6,
   "id": "afb3f20a",
   "metadata": {},
   "outputs": [
    {
     "data": {
      "text/html": [
       "<div>\n",
       "<style scoped>\n",
       "    .dataframe tbody tr th:only-of-type {\n",
       "        vertical-align: middle;\n",
       "    }\n",
       "\n",
       "    .dataframe tbody tr th {\n",
       "        vertical-align: top;\n",
       "    }\n",
       "\n",
       "    .dataframe thead th {\n",
       "        text-align: right;\n",
       "    }\n",
       "</style>\n",
       "<table border=\"1\" class=\"dataframe\">\n",
       "  <thead>\n",
       "    <tr style=\"text-align: right;\">\n",
       "      <th></th>\n",
       "      <th>Time</th>\n",
       "      <th>V1</th>\n",
       "      <th>V2</th>\n",
       "      <th>V3</th>\n",
       "      <th>V4</th>\n",
       "      <th>V5</th>\n",
       "      <th>V6</th>\n",
       "      <th>V7</th>\n",
       "      <th>V8</th>\n",
       "      <th>V9</th>\n",
       "      <th>V10</th>\n",
       "      <th>V11</th>\n",
       "      <th>V12</th>\n",
       "      <th>V13</th>\n",
       "      <th>V14</th>\n",
       "      <th>V15</th>\n",
       "      <th>V16</th>\n",
       "      <th>V17</th>\n",
       "      <th>V18</th>\n",
       "      <th>V19</th>\n",
       "      <th>V20</th>\n",
       "      <th>V21</th>\n",
       "      <th>V22</th>\n",
       "      <th>V23</th>\n",
       "      <th>V24</th>\n",
       "      <th>V25</th>\n",
       "      <th>V26</th>\n",
       "      <th>V27</th>\n",
       "      <th>V28</th>\n",
       "      <th>Amount</th>\n",
       "      <th>Class</th>\n",
       "    </tr>\n",
       "  </thead>\n",
       "  <tbody>\n",
       "    <tr>\n",
       "      <th>623</th>\n",
       "      <td>472.0</td>\n",
       "      <td>-3.043541</td>\n",
       "      <td>-3.157307</td>\n",
       "      <td>1.088463</td>\n",
       "      <td>2.288644</td>\n",
       "      <td>1.359805</td>\n",
       "      <td>-1.064823</td>\n",
       "      <td>0.325574</td>\n",
       "      <td>-0.067794</td>\n",
       "      <td>-0.270953</td>\n",
       "      <td>-0.838587</td>\n",
       "      <td>-0.414575</td>\n",
       "      <td>-0.503141</td>\n",
       "      <td>0.676502</td>\n",
       "      <td>-1.692029</td>\n",
       "      <td>2.000635</td>\n",
       "      <td>0.666780</td>\n",
       "      <td>0.599717</td>\n",
       "      <td>1.725321</td>\n",
       "      <td>0.283345</td>\n",
       "      <td>2.102339</td>\n",
       "      <td>0.661696</td>\n",
       "      <td>0.435477</td>\n",
       "      <td>1.375966</td>\n",
       "      <td>-0.293803</td>\n",
       "      <td>0.279798</td>\n",
       "      <td>-0.145362</td>\n",
       "      <td>-0.252773</td>\n",
       "      <td>0.035764</td>\n",
       "      <td>529.00</td>\n",
       "      <td>1</td>\n",
       "    </tr>\n",
       "    <tr>\n",
       "      <th>4920</th>\n",
       "      <td>4462.0</td>\n",
       "      <td>-2.303350</td>\n",
       "      <td>1.759247</td>\n",
       "      <td>-0.359745</td>\n",
       "      <td>2.330243</td>\n",
       "      <td>-0.821628</td>\n",
       "      <td>-0.075788</td>\n",
       "      <td>0.562320</td>\n",
       "      <td>-0.399147</td>\n",
       "      <td>-0.238253</td>\n",
       "      <td>-1.525412</td>\n",
       "      <td>2.032912</td>\n",
       "      <td>-6.560124</td>\n",
       "      <td>0.022937</td>\n",
       "      <td>-1.470102</td>\n",
       "      <td>-0.698826</td>\n",
       "      <td>-2.282194</td>\n",
       "      <td>-4.781831</td>\n",
       "      <td>-2.615665</td>\n",
       "      <td>-1.334441</td>\n",
       "      <td>-0.430022</td>\n",
       "      <td>-0.294166</td>\n",
       "      <td>-0.932391</td>\n",
       "      <td>0.172726</td>\n",
       "      <td>-0.087330</td>\n",
       "      <td>-0.156114</td>\n",
       "      <td>-0.542628</td>\n",
       "      <td>0.039566</td>\n",
       "      <td>-0.153029</td>\n",
       "      <td>239.93</td>\n",
       "      <td>1</td>\n",
       "    </tr>\n",
       "    <tr>\n",
       "      <th>6108</th>\n",
       "      <td>6986.0</td>\n",
       "      <td>-4.397974</td>\n",
       "      <td>1.358367</td>\n",
       "      <td>-2.592844</td>\n",
       "      <td>2.679787</td>\n",
       "      <td>-1.128131</td>\n",
       "      <td>-1.706536</td>\n",
       "      <td>-3.496197</td>\n",
       "      <td>-0.248778</td>\n",
       "      <td>-0.247768</td>\n",
       "      <td>-4.801637</td>\n",
       "      <td>4.895844</td>\n",
       "      <td>-10.912819</td>\n",
       "      <td>0.184372</td>\n",
       "      <td>-6.771097</td>\n",
       "      <td>-0.007326</td>\n",
       "      <td>-7.358083</td>\n",
       "      <td>-12.598419</td>\n",
       "      <td>-5.131549</td>\n",
       "      <td>0.308334</td>\n",
       "      <td>-0.171608</td>\n",
       "      <td>0.573574</td>\n",
       "      <td>0.176968</td>\n",
       "      <td>-0.436207</td>\n",
       "      <td>-0.053502</td>\n",
       "      <td>0.252405</td>\n",
       "      <td>-0.657488</td>\n",
       "      <td>-0.827136</td>\n",
       "      <td>0.849573</td>\n",
       "      <td>59.00</td>\n",
       "      <td>1</td>\n",
       "    </tr>\n",
       "    <tr>\n",
       "      <th>6329</th>\n",
       "      <td>7519.0</td>\n",
       "      <td>1.234235</td>\n",
       "      <td>3.019740</td>\n",
       "      <td>-4.304597</td>\n",
       "      <td>4.732795</td>\n",
       "      <td>3.624201</td>\n",
       "      <td>-1.357746</td>\n",
       "      <td>1.713445</td>\n",
       "      <td>-0.496358</td>\n",
       "      <td>-1.282858</td>\n",
       "      <td>-2.447469</td>\n",
       "      <td>2.101344</td>\n",
       "      <td>-4.609628</td>\n",
       "      <td>1.464378</td>\n",
       "      <td>-6.079337</td>\n",
       "      <td>-0.339237</td>\n",
       "      <td>2.581851</td>\n",
       "      <td>6.739384</td>\n",
       "      <td>3.042493</td>\n",
       "      <td>-2.721853</td>\n",
       "      <td>0.009061</td>\n",
       "      <td>-0.379068</td>\n",
       "      <td>-0.704181</td>\n",
       "      <td>-0.656805</td>\n",
       "      <td>-1.632653</td>\n",
       "      <td>1.488901</td>\n",
       "      <td>0.566797</td>\n",
       "      <td>-0.010016</td>\n",
       "      <td>0.146793</td>\n",
       "      <td>1.00</td>\n",
       "      <td>1</td>\n",
       "    </tr>\n",
       "    <tr>\n",
       "      <th>6331</th>\n",
       "      <td>7526.0</td>\n",
       "      <td>0.008430</td>\n",
       "      <td>4.137837</td>\n",
       "      <td>-6.240697</td>\n",
       "      <td>6.675732</td>\n",
       "      <td>0.768307</td>\n",
       "      <td>-3.353060</td>\n",
       "      <td>-1.631735</td>\n",
       "      <td>0.154612</td>\n",
       "      <td>-2.795892</td>\n",
       "      <td>-6.187891</td>\n",
       "      <td>5.664395</td>\n",
       "      <td>-9.854485</td>\n",
       "      <td>-0.306167</td>\n",
       "      <td>-10.691196</td>\n",
       "      <td>-0.638498</td>\n",
       "      <td>-2.041974</td>\n",
       "      <td>-1.129056</td>\n",
       "      <td>0.116453</td>\n",
       "      <td>-1.934666</td>\n",
       "      <td>0.488378</td>\n",
       "      <td>0.364514</td>\n",
       "      <td>-0.608057</td>\n",
       "      <td>-0.539528</td>\n",
       "      <td>0.128940</td>\n",
       "      <td>1.488481</td>\n",
       "      <td>0.507963</td>\n",
       "      <td>0.735822</td>\n",
       "      <td>0.513574</td>\n",
       "      <td>1.00</td>\n",
       "      <td>1</td>\n",
       "    </tr>\n",
       "    <tr>\n",
       "      <th>...</th>\n",
       "      <td>...</td>\n",
       "      <td>...</td>\n",
       "      <td>...</td>\n",
       "      <td>...</td>\n",
       "      <td>...</td>\n",
       "      <td>...</td>\n",
       "      <td>...</td>\n",
       "      <td>...</td>\n",
       "      <td>...</td>\n",
       "      <td>...</td>\n",
       "      <td>...</td>\n",
       "      <td>...</td>\n",
       "      <td>...</td>\n",
       "      <td>...</td>\n",
       "      <td>...</td>\n",
       "      <td>...</td>\n",
       "      <td>...</td>\n",
       "      <td>...</td>\n",
       "      <td>...</td>\n",
       "      <td>...</td>\n",
       "      <td>...</td>\n",
       "      <td>...</td>\n",
       "      <td>...</td>\n",
       "      <td>...</td>\n",
       "      <td>...</td>\n",
       "      <td>...</td>\n",
       "      <td>...</td>\n",
       "      <td>...</td>\n",
       "      <td>...</td>\n",
       "      <td>...</td>\n",
       "      <td>...</td>\n",
       "    </tr>\n",
       "    <tr>\n",
       "      <th>279863</th>\n",
       "      <td>169142.0</td>\n",
       "      <td>-1.927883</td>\n",
       "      <td>1.125653</td>\n",
       "      <td>-4.518331</td>\n",
       "      <td>1.749293</td>\n",
       "      <td>-1.566487</td>\n",
       "      <td>-2.010494</td>\n",
       "      <td>-0.882850</td>\n",
       "      <td>0.697211</td>\n",
       "      <td>-2.064945</td>\n",
       "      <td>-5.587794</td>\n",
       "      <td>2.115795</td>\n",
       "      <td>-5.417424</td>\n",
       "      <td>-1.235123</td>\n",
       "      <td>-6.665177</td>\n",
       "      <td>0.401701</td>\n",
       "      <td>-2.897825</td>\n",
       "      <td>-4.570529</td>\n",
       "      <td>-1.315147</td>\n",
       "      <td>0.391167</td>\n",
       "      <td>1.252967</td>\n",
       "      <td>0.778584</td>\n",
       "      <td>-0.319189</td>\n",
       "      <td>0.639419</td>\n",
       "      <td>-0.294885</td>\n",
       "      <td>0.537503</td>\n",
       "      <td>0.788395</td>\n",
       "      <td>0.292680</td>\n",
       "      <td>0.147968</td>\n",
       "      <td>390.00</td>\n",
       "      <td>1</td>\n",
       "    </tr>\n",
       "    <tr>\n",
       "      <th>280143</th>\n",
       "      <td>169347.0</td>\n",
       "      <td>1.378559</td>\n",
       "      <td>1.289381</td>\n",
       "      <td>-5.004247</td>\n",
       "      <td>1.411850</td>\n",
       "      <td>0.442581</td>\n",
       "      <td>-1.326536</td>\n",
       "      <td>-1.413170</td>\n",
       "      <td>0.248525</td>\n",
       "      <td>-1.127396</td>\n",
       "      <td>-3.232153</td>\n",
       "      <td>2.858466</td>\n",
       "      <td>-3.096915</td>\n",
       "      <td>-0.792532</td>\n",
       "      <td>-5.210141</td>\n",
       "      <td>-0.613803</td>\n",
       "      <td>-2.155297</td>\n",
       "      <td>-3.267116</td>\n",
       "      <td>-0.688505</td>\n",
       "      <td>0.737657</td>\n",
       "      <td>0.226138</td>\n",
       "      <td>0.370612</td>\n",
       "      <td>0.028234</td>\n",
       "      <td>-0.145640</td>\n",
       "      <td>-0.081049</td>\n",
       "      <td>0.521875</td>\n",
       "      <td>0.739467</td>\n",
       "      <td>0.389152</td>\n",
       "      <td>0.186637</td>\n",
       "      <td>0.76</td>\n",
       "      <td>1</td>\n",
       "    </tr>\n",
       "    <tr>\n",
       "      <th>280149</th>\n",
       "      <td>169351.0</td>\n",
       "      <td>-0.676143</td>\n",
       "      <td>1.126366</td>\n",
       "      <td>-2.213700</td>\n",
       "      <td>0.468308</td>\n",
       "      <td>-1.120541</td>\n",
       "      <td>-0.003346</td>\n",
       "      <td>-2.234739</td>\n",
       "      <td>1.210158</td>\n",
       "      <td>-0.652250</td>\n",
       "      <td>-3.463891</td>\n",
       "      <td>1.794969</td>\n",
       "      <td>-2.775022</td>\n",
       "      <td>-0.418950</td>\n",
       "      <td>-4.057162</td>\n",
       "      <td>-0.712616</td>\n",
       "      <td>-1.603015</td>\n",
       "      <td>-5.035326</td>\n",
       "      <td>-0.507000</td>\n",
       "      <td>0.266272</td>\n",
       "      <td>0.247968</td>\n",
       "      <td>0.751826</td>\n",
       "      <td>0.834108</td>\n",
       "      <td>0.190944</td>\n",
       "      <td>0.032070</td>\n",
       "      <td>-0.739695</td>\n",
       "      <td>0.471111</td>\n",
       "      <td>0.385107</td>\n",
       "      <td>0.194361</td>\n",
       "      <td>77.89</td>\n",
       "      <td>1</td>\n",
       "    </tr>\n",
       "    <tr>\n",
       "      <th>281144</th>\n",
       "      <td>169966.0</td>\n",
       "      <td>-3.113832</td>\n",
       "      <td>0.585864</td>\n",
       "      <td>-5.399730</td>\n",
       "      <td>1.817092</td>\n",
       "      <td>-0.840618</td>\n",
       "      <td>-2.943548</td>\n",
       "      <td>-2.208002</td>\n",
       "      <td>1.058733</td>\n",
       "      <td>-1.632333</td>\n",
       "      <td>-5.245984</td>\n",
       "      <td>1.933520</td>\n",
       "      <td>-5.030465</td>\n",
       "      <td>-1.127455</td>\n",
       "      <td>-6.416628</td>\n",
       "      <td>0.141237</td>\n",
       "      <td>-2.549498</td>\n",
       "      <td>-4.614717</td>\n",
       "      <td>-1.478138</td>\n",
       "      <td>-0.035480</td>\n",
       "      <td>0.306271</td>\n",
       "      <td>0.583276</td>\n",
       "      <td>-0.269209</td>\n",
       "      <td>-0.456108</td>\n",
       "      <td>-0.183659</td>\n",
       "      <td>-0.328168</td>\n",
       "      <td>0.606116</td>\n",
       "      <td>0.884876</td>\n",
       "      <td>-0.253700</td>\n",
       "      <td>245.00</td>\n",
       "      <td>1</td>\n",
       "    </tr>\n",
       "    <tr>\n",
       "      <th>281674</th>\n",
       "      <td>170348.0</td>\n",
       "      <td>1.991976</td>\n",
       "      <td>0.158476</td>\n",
       "      <td>-2.583441</td>\n",
       "      <td>0.408670</td>\n",
       "      <td>1.151147</td>\n",
       "      <td>-0.096695</td>\n",
       "      <td>0.223050</td>\n",
       "      <td>-0.068384</td>\n",
       "      <td>0.577829</td>\n",
       "      <td>-0.888722</td>\n",
       "      <td>0.491140</td>\n",
       "      <td>0.728903</td>\n",
       "      <td>0.380428</td>\n",
       "      <td>-1.948883</td>\n",
       "      <td>-0.832498</td>\n",
       "      <td>0.519436</td>\n",
       "      <td>0.903562</td>\n",
       "      <td>1.197315</td>\n",
       "      <td>0.593509</td>\n",
       "      <td>-0.017652</td>\n",
       "      <td>-0.164350</td>\n",
       "      <td>-0.295135</td>\n",
       "      <td>-0.072173</td>\n",
       "      <td>-0.450261</td>\n",
       "      <td>0.313267</td>\n",
       "      <td>-0.289617</td>\n",
       "      <td>0.002988</td>\n",
       "      <td>-0.015309</td>\n",
       "      <td>42.53</td>\n",
       "      <td>1</td>\n",
       "    </tr>\n",
       "  </tbody>\n",
       "</table>\n",
       "<p>491 rows × 31 columns</p>\n",
       "</div>"
      ],
      "text/plain": [
       "            Time        V1        V2        V3        V4        V5        V6  \\\n",
       "623        472.0 -3.043541 -3.157307  1.088463  2.288644  1.359805 -1.064823   \n",
       "4920      4462.0 -2.303350  1.759247 -0.359745  2.330243 -0.821628 -0.075788   \n",
       "6108      6986.0 -4.397974  1.358367 -2.592844  2.679787 -1.128131 -1.706536   \n",
       "6329      7519.0  1.234235  3.019740 -4.304597  4.732795  3.624201 -1.357746   \n",
       "6331      7526.0  0.008430  4.137837 -6.240697  6.675732  0.768307 -3.353060   \n",
       "...          ...       ...       ...       ...       ...       ...       ...   \n",
       "279863  169142.0 -1.927883  1.125653 -4.518331  1.749293 -1.566487 -2.010494   \n",
       "280143  169347.0  1.378559  1.289381 -5.004247  1.411850  0.442581 -1.326536   \n",
       "280149  169351.0 -0.676143  1.126366 -2.213700  0.468308 -1.120541 -0.003346   \n",
       "281144  169966.0 -3.113832  0.585864 -5.399730  1.817092 -0.840618 -2.943548   \n",
       "281674  170348.0  1.991976  0.158476 -2.583441  0.408670  1.151147 -0.096695   \n",
       "\n",
       "              V7        V8        V9       V10       V11        V12       V13  \\\n",
       "623     0.325574 -0.067794 -0.270953 -0.838587 -0.414575  -0.503141  0.676502   \n",
       "4920    0.562320 -0.399147 -0.238253 -1.525412  2.032912  -6.560124  0.022937   \n",
       "6108   -3.496197 -0.248778 -0.247768 -4.801637  4.895844 -10.912819  0.184372   \n",
       "6329    1.713445 -0.496358 -1.282858 -2.447469  2.101344  -4.609628  1.464378   \n",
       "6331   -1.631735  0.154612 -2.795892 -6.187891  5.664395  -9.854485 -0.306167   \n",
       "...          ...       ...       ...       ...       ...        ...       ...   \n",
       "279863 -0.882850  0.697211 -2.064945 -5.587794  2.115795  -5.417424 -1.235123   \n",
       "280143 -1.413170  0.248525 -1.127396 -3.232153  2.858466  -3.096915 -0.792532   \n",
       "280149 -2.234739  1.210158 -0.652250 -3.463891  1.794969  -2.775022 -0.418950   \n",
       "281144 -2.208002  1.058733 -1.632333 -5.245984  1.933520  -5.030465 -1.127455   \n",
       "281674  0.223050 -0.068384  0.577829 -0.888722  0.491140   0.728903  0.380428   \n",
       "\n",
       "              V14       V15       V16        V17       V18       V19  \\\n",
       "623     -1.692029  2.000635  0.666780   0.599717  1.725321  0.283345   \n",
       "4920    -1.470102 -0.698826 -2.282194  -4.781831 -2.615665 -1.334441   \n",
       "6108    -6.771097 -0.007326 -7.358083 -12.598419 -5.131549  0.308334   \n",
       "6329    -6.079337 -0.339237  2.581851   6.739384  3.042493 -2.721853   \n",
       "6331   -10.691196 -0.638498 -2.041974  -1.129056  0.116453 -1.934666   \n",
       "...           ...       ...       ...        ...       ...       ...   \n",
       "279863  -6.665177  0.401701 -2.897825  -4.570529 -1.315147  0.391167   \n",
       "280143  -5.210141 -0.613803 -2.155297  -3.267116 -0.688505  0.737657   \n",
       "280149  -4.057162 -0.712616 -1.603015  -5.035326 -0.507000  0.266272   \n",
       "281144  -6.416628  0.141237 -2.549498  -4.614717 -1.478138 -0.035480   \n",
       "281674  -1.948883 -0.832498  0.519436   0.903562  1.197315  0.593509   \n",
       "\n",
       "             V20       V21       V22       V23       V24       V25       V26  \\\n",
       "623     2.102339  0.661696  0.435477  1.375966 -0.293803  0.279798 -0.145362   \n",
       "4920   -0.430022 -0.294166 -0.932391  0.172726 -0.087330 -0.156114 -0.542628   \n",
       "6108   -0.171608  0.573574  0.176968 -0.436207 -0.053502  0.252405 -0.657488   \n",
       "6329    0.009061 -0.379068 -0.704181 -0.656805 -1.632653  1.488901  0.566797   \n",
       "6331    0.488378  0.364514 -0.608057 -0.539528  0.128940  1.488481  0.507963   \n",
       "...          ...       ...       ...       ...       ...       ...       ...   \n",
       "279863  1.252967  0.778584 -0.319189  0.639419 -0.294885  0.537503  0.788395   \n",
       "280143  0.226138  0.370612  0.028234 -0.145640 -0.081049  0.521875  0.739467   \n",
       "280149  0.247968  0.751826  0.834108  0.190944  0.032070 -0.739695  0.471111   \n",
       "281144  0.306271  0.583276 -0.269209 -0.456108 -0.183659 -0.328168  0.606116   \n",
       "281674 -0.017652 -0.164350 -0.295135 -0.072173 -0.450261  0.313267 -0.289617   \n",
       "\n",
       "             V27       V28  Amount  Class  \n",
       "623    -0.252773  0.035764  529.00      1  \n",
       "4920    0.039566 -0.153029  239.93      1  \n",
       "6108   -0.827136  0.849573   59.00      1  \n",
       "6329   -0.010016  0.146793    1.00      1  \n",
       "6331    0.735822  0.513574    1.00      1  \n",
       "...          ...       ...     ...    ...  \n",
       "279863  0.292680  0.147968  390.00      1  \n",
       "280143  0.389152  0.186637    0.76      1  \n",
       "280149  0.385107  0.194361   77.89      1  \n",
       "281144  0.884876 -0.253700  245.00      1  \n",
       "281674  0.002988 -0.015309   42.53      1  \n",
       "\n",
       "[491 rows x 31 columns]"
      ]
     },
     "execution_count": 6,
     "metadata": {},
     "output_type": "execute_result"
    }
   ],
   "source": [
    "data[(data['Class']==1) &(data['Class'].duplicated())]"
   ]
  },
  {
   "cell_type": "code",
   "execution_count": 7,
   "id": "35b720e9",
   "metadata": {},
   "outputs": [],
   "source": [
    "data=data.drop('Time',axis=1)"
   ]
  },
  {
   "cell_type": "code",
   "execution_count": 8,
   "id": "c9e9dd22",
   "metadata": {},
   "outputs": [
    {
     "name": "stdout",
     "output_type": "stream",
     "text": [
      "              V1        V2        V3        V4        V5        V6        V7  \\\n",
      "33     -0.529912  0.873892  1.347247  0.145457  0.414209  0.100223  0.711206   \n",
      "35     -0.535388  0.865268  1.351076  0.147575  0.433680  0.086983  0.693039   \n",
      "113     1.038370  0.127486  0.184456  1.109950  0.441699  0.945283 -0.036715   \n",
      "114     1.038370  0.127486  0.184456  1.109950  0.441699  0.945283 -0.036715   \n",
      "115     1.038370  0.127486  0.184456  1.109950  0.441699  0.945283 -0.036715   \n",
      "...          ...       ...       ...       ...       ...       ...       ...   \n",
      "284708  2.018105  0.073226 -1.615154  0.351058  0.333905 -0.676284  0.050474   \n",
      "284751  2.050734 -0.364010 -2.542843 -0.729357  2.388455  3.318015 -0.479138   \n",
      "284775  1.955547 -0.724606 -1.706511 -0.611145  1.710907  3.914215 -1.248690   \n",
      "284785  0.032887  0.545338 -1.185844 -1.729828  2.932315  3.401529  0.337434   \n",
      "284793  1.971002 -0.699067 -1.697541 -0.617643  1.718797  3.911336 -1.259306   \n",
      "\n",
      "              V8        V9       V10       V11       V12       V13       V14  \\\n",
      "33      0.176066 -0.286717 -0.484688  0.872490  0.851636 -0.571745  0.100974   \n",
      "35      0.179742 -0.285642 -0.482474  0.871800  0.853447 -0.571822  0.102252   \n",
      "113     0.350995  0.118950 -0.243289  0.578063  0.674730 -0.534231  0.446601   \n",
      "114     0.350995  0.118950 -0.243289  0.578063  0.674730 -0.534231  0.446601   \n",
      "115     0.350995  0.118950 -0.243289  0.578063  0.674730 -0.534231  0.446601   \n",
      "...          ...       ...       ...       ...       ...       ...       ...   \n",
      "284708 -0.071028  0.302728 -0.193920  1.206863  0.611617 -0.589935 -0.529698   \n",
      "284751  0.791559  0.403374  0.093232  0.004391  0.390166 -0.212555  0.495544   \n",
      "284775  1.054133  1.314064 -0.150553 -0.222844  0.496839 -0.050358  0.001067   \n",
      "284785  0.925377 -0.165663 -0.386953 -0.199626  0.032017 -0.374731  0.354051   \n",
      "284793  1.056209  1.315006 -0.146827 -0.222959  0.496509 -0.051785 -0.000744   \n",
      "\n",
      "             V15       V16       V17       V18       V19       V20       V21  \\\n",
      "33     -1.519772 -0.284376 -0.310524 -0.404248 -0.823374 -0.290348  0.046949   \n",
      "35     -1.519991 -0.285912 -0.309633 -0.403902 -0.823743 -0.283264  0.049526   \n",
      "113     1.122885 -1.768001  1.241157 -2.449500 -1.747255 -0.335520  0.102520   \n",
      "114     1.122885 -1.768001  1.241157 -2.449500 -1.747255 -0.335520  0.102520   \n",
      "115     1.122885 -1.768001  1.241157 -2.449500 -1.747255 -0.335520  0.102520   \n",
      "...          ...       ...       ...       ...       ...       ...       ...   \n",
      "284708 -0.450015  0.483411  0.321520  0.192470  0.275352 -0.184898 -0.306646   \n",
      "284751  0.472633 -0.171595 -0.368261 -0.976572  0.022869 -0.154978 -0.293363   \n",
      "284775  0.894690  0.001418 -0.583473  0.075802 -0.359344 -0.137290  0.193605   \n",
      "284785  0.041228 -0.154750 -0.482455 -0.842462 -0.206385  0.022677 -0.266113   \n",
      "284793  0.893684  0.000363 -0.583710  0.074163 -0.356789 -0.153581  0.188758   \n",
      "\n",
      "             V22       V23       V24       V25       V26       V27       V28  \\\n",
      "33      0.208105 -0.185548  0.001031  0.098816 -0.552904 -0.073288  0.023307   \n",
      "35      0.206537 -0.187108  0.000753  0.098117 -0.553471 -0.078306  0.025427   \n",
      "113     0.605089  0.023092 -0.626463  0.479120 -0.166937  0.081247  0.001192   \n",
      "114     0.605089  0.023092 -0.626463  0.479120 -0.166937  0.081247  0.001192   \n",
      "115     0.605089  0.023092 -0.626463  0.479120 -0.166937  0.081247  0.001192   \n",
      "...          ...       ...       ...       ...       ...       ...       ...   \n",
      "284708 -0.841768  0.356773  0.655112 -0.331463  0.144352 -0.069820 -0.039845   \n",
      "284751 -0.834802  0.381740  0.698179 -0.264798  0.219275 -0.052131 -0.066940   \n",
      "284775  0.690196  0.155951  0.726775 -0.061219 -0.192666  0.060347 -0.042323   \n",
      "284785 -0.716336  0.108519  0.688519 -0.460220  0.161939  0.265368  0.090245   \n",
      "284793  0.694418  0.163002  0.726365 -0.058282 -0.191813  0.061858 -0.043716   \n",
      "\n",
      "        Amount  Class  \n",
      "33        6.14      0  \n",
      "35        1.77      0  \n",
      "113       1.18      0  \n",
      "114       1.18      0  \n",
      "115       1.18      0  \n",
      "...        ...    ...  \n",
      "284708    1.98      0  \n",
      "284751    0.89      0  \n",
      "284775   12.99      0  \n",
      "284785    1.79      0  \n",
      "284793    4.99      0  \n",
      "\n",
      "[9144 rows x 30 columns]\n"
     ]
    }
   ],
   "source": [
    "duplicate_rows = data.duplicated()\n",
    "duplicate_data = data[duplicate_rows]\n",
    "print(duplicate_data)"
   ]
  },
  {
   "cell_type": "code",
   "execution_count": 9,
   "id": "dcf66cc8",
   "metadata": {},
   "outputs": [],
   "source": [
    "data=data.drop_duplicates()"
   ]
  },
  {
   "cell_type": "code",
   "execution_count": 10,
   "id": "ca4b47e8",
   "metadata": {},
   "outputs": [],
   "source": [
    "from sklearn.preprocessing import StandardScaler"
   ]
  },
  {
   "cell_type": "code",
   "execution_count": 11,
   "id": "77d922ee",
   "metadata": {},
   "outputs": [],
   "source": [
    "sc=StandardScaler()"
   ]
  },
  {
   "cell_type": "code",
   "execution_count": 12,
   "id": "d413dc22",
   "metadata": {},
   "outputs": [],
   "source": [
    "data['Amount']=sc.fit_transform(data[['Amount']])"
   ]
  },
  {
   "cell_type": "code",
   "execution_count": 13,
   "id": "1539db4e",
   "metadata": {},
   "outputs": [
    {
     "data": {
      "text/plain": [
       "<AxesSubplot:xlabel='Class', ylabel='count'>"
      ]
     },
     "execution_count": 13,
     "metadata": {},
     "output_type": "execute_result"
    },
    {
     "data": {
      "image/png": "[encoded data removed]",
      "text/plain": [
       "<Figure size 640x480 with 1 Axes>"
      ]
     },
     "metadata": {},
     "output_type": "display_data"
    }
   ],
   "source": [
    "sb.countplot(x='Class',data=data)"
   ]
  },
  {
   "cell_type": "code",
   "execution_count": 14,
   "id": "4b8bfd98",
   "metadata": {},
   "outputs": [],
   "source": [
    "#Taking dependent and independent variable\n",
    "x=data.drop('Class',axis=1)\n",
    "y=data['Class']"
   ]
  },
  {
   "cell_type": "code",
   "execution_count": 15,
   "id": "705329f9",
   "metadata": {},
   "outputs": [
    {
     "name": "stdout",
     "output_type": "stream",
     "text": [
      "Requirement already satisfied: imblearn in c:\\users\\hp\\anaconda3\\lib\\site-packages (0.0)\n",
      "Requirement already satisfied: imbalanced-learn in c:\\users\\hp\\anaconda3\\lib\\site-packages (from imblearn) (0.11.0)\n",
      "Requirement already satisfied: numpy>=1.17.3 in c:\\users\\hp\\anaconda3\\lib\\site-packages (from imbalanced-learn->imblearn) (1.21.5)\n",
      "Requirement already satisfied: scipy>=1.5.0 in c:\\users\\hp\\anaconda3\\lib\\site-packages (from imbalanced-learn->imblearn) (1.9.1)\n",
      "Requirement already satisfied: scikit-learn>=1.0.2 in c:\\users\\hp\\anaconda3\\lib\\site-packages (from imbalanced-learn->imblearn) (1.0.2)\n",
      "Requirement already satisfied: joblib>=1.1.1 in c:\\users\\hp\\anaconda3\\lib\\site-packages (from imbalanced-learn->imblearn) (1.3.1)\n",
      "Requirement already satisfied: threadpoolctl>=2.0.0 in c:\\users\\hp\\anaconda3\\lib\\site-packages (from imbalanced-learn->imblearn) (2.2.0)\n"
     ]
    },
    {
     "name": "stderr",
     "output_type": "stream",
     "text": [
      "\n",
      "[notice] A new release of pip is available: 23.1.2 -> 23.2\n",
      "[notice] To update, run: python.exe -m pip install --upgrade pip\n"
     ]
    }
   ],
   "source": [
    "!pip install imblearn"
   ]
  },
  {
   "cell_type": "code",
   "execution_count": 16,
   "id": "7744909d",
   "metadata": {},
   "outputs": [],
   "source": [
    "#oversampling for imbalance dataset\n",
    "from imblearn.over_sampling import SMOTE"
   ]
  },
  {
   "cell_type": "code",
   "execution_count": 17,
   "id": "d83a759a",
   "metadata": {},
   "outputs": [],
   "source": [
    "sm=SMOTE()"
   ]
  },
  {
   "cell_type": "code",
   "execution_count": 18,
   "id": "cbc7e953",
   "metadata": {},
   "outputs": [],
   "source": [
    "x_res,y_res=sm.fit_resample(x,y)"
   ]
  },
  {
   "cell_type": "code",
   "execution_count": 19,
   "id": "cd1bb970",
   "metadata": {},
   "outputs": [
    {
     "data": {
      "text/plain": [
       "0    275190\n",
       "1    275190\n",
       "Name: Class, dtype: int64"
      ]
     },
     "execution_count": 19,
     "metadata": {},
     "output_type": "execute_result"
    }
   ],
   "source": [
    "y_res.value_counts()"
   ]
  },
  {
   "cell_type": "code",
   "execution_count": 20,
   "id": "d9f00f64",
   "metadata": {},
   "outputs": [],
   "source": [
    "#Dividing the dataset into train and test\n",
    "from sklearn.model_selection import train_test_split"
   ]
  },
  {
   "cell_type": "code",
   "execution_count": 21,
   "id": "a89f5692",
   "metadata": {},
   "outputs": [],
   "source": [
    "xtrain,xtest,ytrain,ytest=train_test_split(x_res,y_res,test_size=0.3,random_state=42)"
   ]
  },
  {
   "cell_type": "code",
   "execution_count": 22,
   "id": "f51605f4",
   "metadata": {},
   "outputs": [],
   "source": [
    "#Performing the dataset into ml model\n",
    "from sklearn.ensemble import RandomForestClassifier"
   ]
  },
  {
   "cell_type": "code",
   "execution_count": 23,
   "id": "24414800",
   "metadata": {},
   "outputs": [
    {
     "data": {
      "text/plain": [
       "RandomForestClassifier()"
      ]
     },
     "execution_count": 23,
     "metadata": {},
     "output_type": "execute_result"
    }
   ],
   "source": [
    "rfc=RandomForestClassifier()\n",
    "rfc.fit(xtrain,ytrain)"
   ]
  },
  {
   "cell_type": "code",
   "execution_count": 24,
   "id": "e2b52a76",
   "metadata": {},
   "outputs": [
    {
     "data": {
      "text/plain": [
       "0.99992126651889"
      ]
     },
     "execution_count": 24,
     "metadata": {},
     "output_type": "execute_result"
    }
   ],
   "source": [
    "rfc.score(xtest,ytest)"
   ]
  }
 ],
 "metadata": {
  "kernelspec": {
   "display_name": "Python 3 (ipykernel)",
   "language": "python",
   "name": "python3"
  },
  "language_info": {
   "codemirror_mode": {
    "name": "ipython",
    "version": 3
   },
   "file_extension": ".py",
   "mimetype": "text/x-python",
   "name": "python",
   "nbconvert_exporter": "python",
   "pygments_lexer": "ipython3",
   "version": "3.9.13"
  }
 },
 "nbformat": 4,
 "nbformat_minor": 5
}
